{
 "cells": [
  {
   "cell_type": "markdown",
   "metadata": {},
   "source": [
    "# ETL\n",
    "\n",
    "\n",
    "## Overview\n",
    "\n",
    "- What is it?\n",
    "- Types of ETL\n",
    "  -  Batch\n",
    "  -  Realtime\n",
    "\n",
    "\n",
    "## What is it?\n",
    "\n",
    "The bright future of decision making has been, and still is making decisions using data; not solely trusting human intuition.\n",
    "Analysts, scientists and statisticians have a problem, though. They want to understand data: but data is almost always inconsistent,\n",
    "corrupted, missing, or just plain invalid.\n",
    "\n",
    "That's because people are involved in data collection most of the time.\n",
    "\n",
    "However, as we hear over and over again: \n",
    "\n",
    "- \"You can have data without information, but you cannot have information without data.\" - Daniel Keys Moran\n",
    "\n",
    "The job of an Extraction Transformation and Loading (ETL) system is to try and homogenize those data into a consistent\n",
    "format so the data can be compared.\n",
    "\n",
    "It's much like a body's digestive system. It digests information into its constituent parts, orders what it can for use and \n",
    "discards the rest. As data engineers, you're the plumbers for your organization's GI tracts.\n",
    "\n",
    "### You're already practiced\n",
    "\n",
    "Already you know something about ETL. Even in your first classes you were loading data into the database using the `COPY FROM CSV` command.\n",
    "\n",
    "You were doing ETL there! Admittedly it was a very simple workflow -- most of the work was being doing in the database, but ETL is a continuum.\n",
    "\n",
    "\n",
    "### Extraction\n",
    "\n",
    "This is where we take information in one format and pull out the bits that are useful to our purpose.\n",
    "\n",
    "e.g. Pulling certain attributes out of a JSON object result from an API call.\n",
    "\n",
    "### Transformation\n",
    "\n",
    "Taking those extracted data, and putting them into whatever format we desire, correcting incorrect values where possible, possibly annotating related\n",
    "information into the same destination format.\n",
    "\n",
    "e.g. Putting the selected JSON attributes into a Protobuffer, adding identifier annotations to data in other systems.\n",
    "\n",
    "\n",
    "#### Loading\n",
    "\n",
    "Putting your data into a database for later analysis.\n",
    "\n",
    "e.g. psql -c \\COPY your_table FROM 'your_file.csv' CSV\n",
    "\n",
    "\n",
    "## Types of ETL\n",
    "\n",
    "### Batch\n",
    "\n",
    "This is in many ways the simplest way to construct a system, and how many of the highest performance ETL systems organize their work.\n",
    "\n",
    "One downside is that up-to-date information is only available after each batch is run.\n",
    "\n",
    "### Realtime\n",
    "\n",
    "This system means that you continuously update your database(s) as new information comes into your system. It's a good choice\n",
    "when the requirement is that your system's information must be close to real-time.\n",
    "\n",
    "One downside is that this is a more difficult system to scale as your data size and frequency increase.\n"
   ]
  },
  {
   "cell_type": "code",
   "execution_count": 1,
   "metadata": {
    "collapsed": false
   },
   "outputs": [],
   "source": [
    "### Imports\n",
    "\n",
    "import collections\n",
    "import random\n",
    "\n",
    "import numpy as np\n",
    "import pandas\n",
    "\n",
    "from functools import wraps"
   ]
  },
  {
   "cell_type": "code",
   "execution_count": 2,
   "metadata": {
    "collapsed": true
   },
   "outputs": [],
   "source": [
    "### Data Vars\n",
    "\n",
    "columns_headers = []\n",
    "num_rows = 10\n"
   ]
  },
  {
   "cell_type": "code",
   "execution_count": 3,
   "metadata": {
    "collapsed": false
   },
   "outputs": [],
   "source": [
    "### Decorators\n",
    "\n",
    "def destroy_percent(percent, value):\n",
    "    \"\"\"Will corrupt, destoy or mangle a percentage of whatever data your wrapped function returns.\"\"\"\n",
    "    def decorator(func):\n",
    "        @wraps(func)\n",
    "        def _wrapped(*args, **kwargs):\n",
    "            ret_val = func(*args, **kwargs)\n",
    "            if isinstance(ret_val, collections.Iterable):\n",
    "                changed_values = {}\n",
    "                for idx, item in enumerate(ret_val):\n",
    "                    if random.randint(0, 100) < percent:\n",
    "                        changed_values[idx] = item\n",
    "                        \n",
    "                for change_idx, item in changed_values.items():\n",
    "                    if callable (value):\n",
    "                        ret_val[change_idx] = value(item)\n",
    "                    else:\n",
    "                        ret_val[change_idx] = value\n",
    "                    \n",
    "                return ret_val\n",
    "                        \n",
    "            # if we're a regular scalar, just replace our return value a random percent of the time.\n",
    "            if (random.randint(0, 100) < percent):\n",
    "                if callable(value):\n",
    "                    return value(ret_val)\n",
    "                return value\n",
    "            else:\n",
    "                return ret_val\n",
    "            \n",
    "        return _wrapped \n",
    "\n",
    "    return decorator"
   ]
  },
  {
   "cell_type": "code",
   "execution_count": 4,
   "metadata": {
    "collapsed": false
   },
   "outputs": [],
   "source": [
    "### Finite Data\n",
    "states = ['OR', 'WA', 'CA', 'ID']\n",
    "state_initial_pops = {state : random.randint(10, 400) for state in states}\n",
    "BAD_CONTINUOUS_DATA_VALUES = [-1, None, 0, 45.3]\n",
    "\n",
    "def bad_data(*args, **kwargs):\n",
    "    return random.choice(BAD_CONTINUOUS_DATA_VALUES)\n",
    "\n",
    "def capitalize(input):\n",
    "    \"\"\"returns list of single letter that is captialized.\"\"\"\n",
    "    return [input.capitalize()]\n",
    "\n",
    "def insert_space(input):\n",
    "    \"\"\"returns list of a letter and a space character\"\"\"\n",
    "    return [input, ' ']\n",
    "\n",
    "string_transforms = [capitalize, insert_space]\n",
    "\n",
    "def randomize_string(input, percent=5):\n",
    "    output = []\n",
    "    letters = input.split()\n",
    "    for letter in input:\n",
    "        out_letter = [letter]\n",
    "        if random.randint(0, 100) < percent:\n",
    "            out_letter = random.choice(string_transforms)(letter)\n",
    "        output.extend(out_letter)\n",
    "        \n",
    "    return ''.join(output)\n",
    "    "
   ]
  },
  {
   "cell_type": "code",
   "execution_count": 5,
   "metadata": {
    "collapsed": false
   },
   "outputs": [],
   "source": [
    "### Continuous Data\n",
    "\n",
    "def get_population(mean, sigma, num_years):\n",
    "    return np.random.normal(mean, sigma, num_years)\n",
    "\n",
    "@destroy_percent(30, None)\n",
    "def get_pop_30_nan(current, sigma, num_years):\n",
    "    return get_population(current, sigma, num_years)\n",
    "\n",
    "@destroy_percent(50, bad_data)\n",
    "def get_pop_50_bad(current, sigma, num_years):\n",
    "    return get_population(current, sigma, num_years)\n",
    "\n",
    "def get_average_annual_income(current, sigma, num_years):\n",
    "    return np.random.normal(current, sigma, num_years)\n",
    "\n",
    "@destroy_percent(2, bad_data)\n",
    "def get_monthly_income(current, sigma, num_years):\n",
    "    return get_average_annual_income(current, sigma, num_years * 12)\n",
    "    "
   ]
  },
  {
   "cell_type": "code",
   "execution_count": 6,
   "metadata": {
    "collapsed": false
   },
   "outputs": [],
   "source": [
    "num_years = 4\n",
    "simple_data = [\n",
    "    {\n",
    "        'state': state,\n",
    "        'population': get_pop_50_bad(\n",
    "            state_initial_pops[state], random.randint(0, 40), num_years\n",
    "        ),\n",
    "        'income': get_average_annual_income(40, 7, num_years)\n",
    "    }\n",
    "    for state in states\n",
    "]"
   ]
  },
  {
   "cell_type": "code",
   "execution_count": 7,
   "metadata": {
    "collapsed": false
   },
   "outputs": [
    {
     "data": {
      "text/plain": [
       "[{'income': array([ 35.25827653,  27.50968443,  38.1298767 ,  40.84193408]),\n",
       "  'population': array([ 402.90631553,  305.19917819,  351.37905321,   45.3       ]),\n",
       "  'state': 'OR'},\n",
       " {'income': array([ 39.31116694,  25.97865363,  42.06570704,  40.68232409]),\n",
       "  'population': array([ 125.19677103,  124.86388795,  125.33855318,           nan]),\n",
       "  'state': 'WA'},\n",
       " {'income': array([ 33.99095615,  44.83983402,  44.89549257,  29.57446891]),\n",
       "  'population': array([ 45.3       ,  45.3       ,  35.39742749,  35.61326458]),\n",
       "  'state': 'CA'},\n",
       " {'income': array([ 42.18199548,  46.1540899 ,  37.5492348 ,  31.99521674]),\n",
       "  'population': array([ 45.3       ,   4.3755346 ,          nan,  44.78070737]),\n",
       "  'state': 'ID'}]"
      ]
     },
     "execution_count": 7,
     "metadata": {},
     "output_type": "execute_result"
    }
   ],
   "source": [
    "simple_data"
   ]
  },
  {
   "cell_type": "code",
   "execution_count": 8,
   "metadata": {
    "collapsed": false
   },
   "outputs": [
    {
     "data": {
      "text/plain": [
       "0    402.906316\n",
       "1    305.199178\n",
       "2    351.379053\n",
       "3     45.300000\n",
       "dtype: float64"
      ]
     },
     "execution_count": 8,
     "metadata": {},
     "output_type": "execute_result"
    }
   ],
   "source": [
    "# Interpolation of missing data\n",
    "# Sometimes this is pretty straight forward, esp. for missing data\n",
    "\n",
    "pandas.Series(simple_data[0]['population'])"
   ]
  },
  {
   "cell_type": "code",
   "execution_count": 9,
   "metadata": {
    "collapsed": false
   },
   "outputs": [
    {
     "data": {
      "text/plain": [
       "0    402.906316\n",
       "1    305.199178\n",
       "2    351.379053\n",
       "3     45.300000\n",
       "dtype: float64"
      ]
     },
     "execution_count": 9,
     "metadata": {},
     "output_type": "execute_result"
    }
   ],
   "source": [
    "pandas.Series(simple_data[0]['population']).interpolate()"
   ]
  },
  {
   "cell_type": "code",
   "execution_count": 10,
   "metadata": {
    "collapsed": true
   },
   "outputs": [],
   "source": [
    "### Data Exploration\n",
    "\n",
    "### Cleaning Topics\n",
    "# \n"
   ]
  },
  {
   "cell_type": "code",
   "execution_count": 11,
   "metadata": {
    "collapsed": true
   },
   "outputs": [],
   "source": [
    "def is_int(value):\n",
    "    return isinstance(value, int)\n",
    "\n",
    "def is_float(value):\n",
    "    return isinstance(value, float)\n",
    "\n",
    "def is_array(value):\n",
    "    return isinstance(value, list)"
   ]
  },
  {
   "cell_type": "code",
   "execution_count": 12,
   "metadata": {
    "collapsed": false
   },
   "outputs": [
    {
     "data": {
      "text/plain": [
       "False"
      ]
     },
     "execution_count": 12,
     "metadata": {},
     "output_type": "execute_result"
    }
   ],
   "source": [
    "is_int(5.0)"
   ]
  },
  {
   "cell_type": "code",
   "execution_count": 13,
   "metadata": {
    "collapsed": false
   },
   "outputs": [
    {
     "data": {
      "text/plain": [
       "False"
      ]
     },
     "execution_count": 13,
     "metadata": {},
     "output_type": "execute_result"
    }
   ],
   "source": [
    "is_float(5)"
   ]
  },
  {
   "cell_type": "code",
   "execution_count": 14,
   "metadata": {
    "collapsed": false
   },
   "outputs": [
    {
     "data": {
      "text/plain": [
       "True"
      ]
     },
     "execution_count": 14,
     "metadata": {},
     "output_type": "execute_result"
    }
   ],
   "source": [
    "is_array(['one','two','three'])"
   ]
  },
  {
   "cell_type": "code",
   "execution_count": 47,
   "metadata": {
    "collapsed": true
   },
   "outputs": [],
   "source": [
    "### Exercise\n",
    "## Build an ETL pipeline for our Simple Data\n",
    "\n",
    "def extract(uncleaned_data):\n",
    "    pass\n",
    "\n",
    "def transform(untransformed_data):\n",
    "    #List of dicts, some of values are lists\n",
    "    # [ {'key': [value1, value2]}]\n",
    "    return_data = []\n",
    "    for data in untransformed_data:\n",
    "        return_dict = {}\n",
    "        for key, value in data.items():\n",
    "            if key == 'population':\n",
    "                ret_value = []\n",
    "                for item in value:\n",
    "                    if is_int(item):\n",
    "                        ret_value.append(item)\n",
    "                return_dict['population'] = ret_value\n",
    "            elif key == 'income':\n",
    "                ret_value = []\n",
    "                for item in value:\n",
    "                    if is_float(item):\n",
    "                        ret_value.append(item)\n",
    "                return_dict['income'] = ret_value\n",
    "            elif key == 'state':\n",
    "                ret_value = []\n",
    "                for item in value:\n",
    "                    if \n",
    "                \n",
    "            return_data.append(return_dict)\n",
    "    return return_data\n",
    "\n",
    "def load(unloaded_data):\n",
    "    \"\"\"Here let's just return a format that can be converted into a CSV with headers easily,\n",
    "    a list of dictionaries would do nicely.\n",
    "    \"\"\"\n",
    "    pass"
   ]
  },
  {
   "cell_type": "code",
   "execution_count": 48,
   "metadata": {
    "collapsed": true
   },
   "outputs": [],
   "source": [
    "pandas_data = pandas.DataFrame(simple_data)"
   ]
  },
  {
   "cell_type": "code",
   "execution_count": 49,
   "metadata": {
    "collapsed": false
   },
   "outputs": [
    {
     "data": {
      "text/html": [
       "<div>\n",
       "<table border=\"1\" class=\"dataframe\">\n",
       "  <thead>\n",
       "    <tr style=\"text-align: right;\">\n",
       "      <th></th>\n",
       "      <th>income</th>\n",
       "      <th>population</th>\n",
       "      <th>state</th>\n",
       "    </tr>\n",
       "  </thead>\n",
       "  <tbody>\n",
       "    <tr>\n",
       "      <th>0</th>\n",
       "      <td>[35.2582765341, 27.509684428, 38.1298766986, 4...</td>\n",
       "      <td>[402.906315526, 305.199178187, 351.37905321, 4...</td>\n",
       "      <td>OR</td>\n",
       "    </tr>\n",
       "    <tr>\n",
       "      <th>1</th>\n",
       "      <td>[39.3111669356, 25.978653626, 42.0657070399, 4...</td>\n",
       "      <td>[125.196771028, 124.863887946, 125.338553182, ...</td>\n",
       "      <td>WA</td>\n",
       "    </tr>\n",
       "    <tr>\n",
       "      <th>2</th>\n",
       "      <td>[33.9909561523, 44.8398340178, 44.8954925665, ...</td>\n",
       "      <td>[45.3, 45.3, 35.3974274944, 35.6132645771]</td>\n",
       "      <td>CA</td>\n",
       "    </tr>\n",
       "    <tr>\n",
       "      <th>3</th>\n",
       "      <td>[42.1819954778, 46.1540898977, 37.5492347996, ...</td>\n",
       "      <td>[45.3, 4.3755345957, nan, 44.7807073695]</td>\n",
       "      <td>ID</td>\n",
       "    </tr>\n",
       "  </tbody>\n",
       "</table>\n",
       "</div>"
      ],
      "text/plain": [
       "                                              income  \\\n",
       "0  [35.2582765341, 27.509684428, 38.1298766986, 4...   \n",
       "1  [39.3111669356, 25.978653626, 42.0657070399, 4...   \n",
       "2  [33.9909561523, 44.8398340178, 44.8954925665, ...   \n",
       "3  [42.1819954778, 46.1540898977, 37.5492347996, ...   \n",
       "\n",
       "                                          population state  \n",
       "0  [402.906315526, 305.199178187, 351.37905321, 4...    OR  \n",
       "1  [125.196771028, 124.863887946, 125.338553182, ...    WA  \n",
       "2         [45.3, 45.3, 35.3974274944, 35.6132645771]    CA  \n",
       "3           [45.3, 4.3755345957, nan, 44.7807073695]    ID  "
      ]
     },
     "execution_count": 49,
     "metadata": {},
     "output_type": "execute_result"
    }
   ],
   "source": [
    "pandas_data"
   ]
  },
  {
   "cell_type": "code",
   "execution_count": 50,
   "metadata": {
    "collapsed": false
   },
   "outputs": [],
   "source": [
    "transformed_data = pandas.DataFrame(transform(simple_data))"
   ]
  },
  {
   "cell_type": "code",
   "execution_count": null,
   "metadata": {
    "collapsed": true
   },
   "outputs": [],
   "source": [
    "# pandas_data.applymap(function_call_here)"
   ]
  },
  {
   "cell_type": "code",
   "execution_count": 51,
   "metadata": {
    "collapsed": false
   },
   "outputs": [
    {
     "data": {
      "text/html": [
       "<div>\n",
       "<table border=\"1\" class=\"dataframe\">\n",
       "  <thead>\n",
       "    <tr style=\"text-align: right;\">\n",
       "      <th></th>\n",
       "      <th>income</th>\n",
       "      <th>population</th>\n",
       "    </tr>\n",
       "  </thead>\n",
       "  <tbody>\n",
       "    <tr>\n",
       "      <th>0</th>\n",
       "      <td>[35.2582765341, 27.509684428, 38.1298766986, 4...</td>\n",
       "      <td>[]</td>\n",
       "    </tr>\n",
       "    <tr>\n",
       "      <th>1</th>\n",
       "      <td>[35.2582765341, 27.509684428, 38.1298766986, 4...</td>\n",
       "      <td>[]</td>\n",
       "    </tr>\n",
       "    <tr>\n",
       "      <th>2</th>\n",
       "      <td>[35.2582765341, 27.509684428, 38.1298766986, 4...</td>\n",
       "      <td>[]</td>\n",
       "    </tr>\n",
       "    <tr>\n",
       "      <th>3</th>\n",
       "      <td>[39.3111669356, 25.978653626, 42.0657070399, 4...</td>\n",
       "      <td>[]</td>\n",
       "    </tr>\n",
       "    <tr>\n",
       "      <th>4</th>\n",
       "      <td>[39.3111669356, 25.978653626, 42.0657070399, 4...</td>\n",
       "      <td>[]</td>\n",
       "    </tr>\n",
       "    <tr>\n",
       "      <th>5</th>\n",
       "      <td>[39.3111669356, 25.978653626, 42.0657070399, 4...</td>\n",
       "      <td>[]</td>\n",
       "    </tr>\n",
       "    <tr>\n",
       "      <th>6</th>\n",
       "      <td>[33.9909561523, 44.8398340178, 44.8954925665, ...</td>\n",
       "      <td>[]</td>\n",
       "    </tr>\n",
       "    <tr>\n",
       "      <th>7</th>\n",
       "      <td>[33.9909561523, 44.8398340178, 44.8954925665, ...</td>\n",
       "      <td>[]</td>\n",
       "    </tr>\n",
       "    <tr>\n",
       "      <th>8</th>\n",
       "      <td>[33.9909561523, 44.8398340178, 44.8954925665, ...</td>\n",
       "      <td>[]</td>\n",
       "    </tr>\n",
       "    <tr>\n",
       "      <th>9</th>\n",
       "      <td>[42.1819954778, 46.1540898977, 37.5492347996, ...</td>\n",
       "      <td>[]</td>\n",
       "    </tr>\n",
       "    <tr>\n",
       "      <th>10</th>\n",
       "      <td>[42.1819954778, 46.1540898977, 37.5492347996, ...</td>\n",
       "      <td>[]</td>\n",
       "    </tr>\n",
       "    <tr>\n",
       "      <th>11</th>\n",
       "      <td>[42.1819954778, 46.1540898977, 37.5492347996, ...</td>\n",
       "      <td>[]</td>\n",
       "    </tr>\n",
       "  </tbody>\n",
       "</table>\n",
       "</div>"
      ],
      "text/plain": [
       "                                               income population\n",
       "0   [35.2582765341, 27.509684428, 38.1298766986, 4...         []\n",
       "1   [35.2582765341, 27.509684428, 38.1298766986, 4...         []\n",
       "2   [35.2582765341, 27.509684428, 38.1298766986, 4...         []\n",
       "3   [39.3111669356, 25.978653626, 42.0657070399, 4...         []\n",
       "4   [39.3111669356, 25.978653626, 42.0657070399, 4...         []\n",
       "5   [39.3111669356, 25.978653626, 42.0657070399, 4...         []\n",
       "6   [33.9909561523, 44.8398340178, 44.8954925665, ...         []\n",
       "7   [33.9909561523, 44.8398340178, 44.8954925665, ...         []\n",
       "8   [33.9909561523, 44.8398340178, 44.8954925665, ...         []\n",
       "9   [42.1819954778, 46.1540898977, 37.5492347996, ...         []\n",
       "10  [42.1819954778, 46.1540898977, 37.5492347996, ...         []\n",
       "11  [42.1819954778, 46.1540898977, 37.5492347996, ...         []"
      ]
     },
     "execution_count": 51,
     "metadata": {},
     "output_type": "execute_result"
    }
   ],
   "source": [
    "transformed_data"
   ]
  },
  {
   "cell_type": "code",
   "execution_count": 20,
   "metadata": {
    "collapsed": false
   },
   "outputs": [],
   "source": [
    "advanced_data = [\n",
    "    {\n",
    "        randomize_string('state', 50): randomize_string(state),\n",
    "        randomize_string('population', 25): get_pop_50_bad(\n",
    "            state_initial_pops[state], random.randint(0, 40), num_years\n",
    "        ),\n",
    "        randomize_string('income', 40): get_average_annual_income(40, 7, num_years)\n",
    "    }\n",
    "    for state in states\n",
    "]"
   ]
  },
  {
   "cell_type": "code",
   "execution_count": 21,
   "metadata": {
    "collapsed": false,
    "scrolled": true
   },
   "outputs": [
    {
     "data": {
      "text/plain": [
       "[{'Inco me': array([ 38.66553355,  51.80708372,  34.41147694,  35.06690257]),\n",
       "  'PopulatioN': array([ 326.14402675,  323.59766333,  319.49612417,  328.65553744]),\n",
       "  'statE': 'OR'},\n",
       " {'i ncOMe': array([ 44.38513231,  37.0406365 ,  27.91603891,  51.5343365 ]),\n",
       "  'population': array([ 151.05127282,   -1.        ,  105.17106141,           nan]),\n",
       "  'state': 'WA'},\n",
       " {'St ATe': 'CA',\n",
       "  'iNc omE': array([ 24.35489797,  50.22909709,  37.02543426,  55.86710196]),\n",
       "  'pOPulAtion': array([  0.        ,  16.00621388,  15.72410031,  10.82873164])},\n",
       " {'income ': array([ 37.18917482,  29.5574099 ,  42.59073476,  29.75724132]),\n",
       "  'populAtion': array([ 41.8851978 ,  45.3       ,          nan,  50.44604077]),\n",
       "  's tat e': 'ID'}]"
      ]
     },
     "execution_count": 21,
     "metadata": {},
     "output_type": "execute_result"
    }
   ],
   "source": [
    "advanced_data"
   ]
  },
  {
   "cell_type": "code",
   "execution_count": 22,
   "metadata": {
    "collapsed": false
   },
   "outputs": [],
   "source": [
    "# Normalizing Strings\n",
    "from difflib import SequenceMatcher\n",
    "\n",
    "all_column_names = [sorted(item.keys()) for item in advanced_data]\n",
    "first_column_names = [item[0] for item in all_column_names]\n",
    "\n",
    "def get_column_similarities(list_of_columns):\n",
    "    ratios = []\n",
    "    for name in list_of_columns:\n",
    "        # Going through our list of column_names and comparing it with the next one in the list.\n",
    "        if list_of_columns.index(name) + 1 < len(list_of_columns):\n",
    "            ratios.append((name, SequenceMatcher(\n",
    "                        None, name, list_of_columns[list_of_columns.index(name) + 1]\n",
    "                    ).ratio()))\n",
    "        else:\n",
    "            ratios.append((name, 0.0))\n",
    "    return ratios\n",
    "\n",
    "my_ratios = get_column_similarities(first_column_names)\n",
    "un_sorted = get_column_similarities([item.keys()[0] for item in advanced_data])"
   ]
  },
  {
   "cell_type": "code",
   "execution_count": 23,
   "metadata": {
    "collapsed": false
   },
   "outputs": [
    {
     "data": {
      "text/plain": [
       "[('Inco me', 0.42857142857142855),\n",
       " ('i ncOMe', 0.3076923076923077),\n",
       " ('St ATe', 0.15384615384615385),\n",
       " ('income ', 0.0)]"
      ]
     },
     "execution_count": 23,
     "metadata": {},
     "output_type": "execute_result"
    }
   ],
   "source": [
    "my_ratios"
   ]
  },
  {
   "cell_type": "code",
   "execution_count": 24,
   "metadata": {
    "collapsed": false
   },
   "outputs": [
    {
     "data": {
      "text/plain": [
       "[('Inco me', 0.16666666666666666),\n",
       " ('state', 0.36363636363636365),\n",
       " ('St ATe', 0.46153846153846156),\n",
       " ('s tat e', 0.0)]"
      ]
     },
     "execution_count": 24,
     "metadata": {},
     "output_type": "execute_result"
    }
   ],
   "source": [
    "un_sorted"
   ]
  },
  {
   "cell_type": "code",
   "execution_count": 25,
   "metadata": {
    "collapsed": true
   },
   "outputs": [],
   "source": [
    "###Exercise\n",
    "## Build and ETL pipleine for our Advanced Data\n",
    "\n",
    "def extract(uncleaned_data):\n",
    "    pass\n",
    "\n",
    "def transform(untransformed_data):\n",
    "    pass\n",
    "\n",
    "def load(unloaded_data):\n",
    "    \"\"\"Here let's just return a format that can be converted into a CSV with headers easily,\n",
    "    a list of dictionaries would do nicely.\n",
    "    \"\"\"\n",
    "    pass\n"
   ]
  },
  {
   "cell_type": "code",
   "execution_count": null,
   "metadata": {
    "collapsed": true
   },
   "outputs": [],
   "source": []
  },
  {
   "cell_type": "code",
   "execution_count": null,
   "metadata": {
    "collapsed": true
   },
   "outputs": [],
   "source": []
  }
 ],
 "metadata": {
  "kernelspec": {
   "display_name": "Python 2",
   "language": "python",
   "name": "python2"
  },
  "language_info": {
   "codemirror_mode": {
    "name": "ipython",
    "version": 2
   },
   "file_extension": ".py",
   "mimetype": "text/x-python",
   "name": "python",
   "nbconvert_exporter": "python",
   "pygments_lexer": "ipython2",
   "version": "2.7.11"
  }
 },
 "nbformat": 4,
 "nbformat_minor": 0
}
